{
 "cells": [
  {
   "cell_type": "code",
   "execution_count": 1,
   "metadata": {},
   "outputs": [
    {
     "name": "stdout",
     "output_type": "stream",
     "text": [
      "A seguir digite S para sim ou N para nao.\n",
      "A seguir digite S para sim ou N para nao.\n",
      "Ana is Inocente\n",
      "Ana is Inocente\n"
     ]
    }
   ],
   "source": [
    "# Utilizando listas que pergunte o nome de 4 pessoas e 5 perguntas sobre um crime. As perguntas são:\n",
    "# \"Telefonou para a vítima?\"\n",
    "# \"Esteve no local do crime?\"\n",
    "# \"Mora perto da vítima?\"\n",
    "# “Tinha dívidas com a vítima?\"\n",
    "# \"Tinha dívidas com a vítima“\n",
    "# As respostas deverão ser (S ou N)\n",
    "\n",
    "#solucao 1\n",
    "# classi = ['Assassino','Cumplice','Suspeita','Inocente']  \n",
    "# perg   = ['Telefonou para a vítima? ','Esteve no local do crime? ','Mora perto da vítima? ','Tinha dívidas com a vítima? ', 'Ja trabalhou com a vítima? ' ]\n",
    "# for i in range(4):\n",
    "#   resp = []\n",
    "#   nome = input('Digite seu nome: ')\n",
    "#   print('A seguir digite S para sim ou N para nao.')\n",
    "#   for x in range(len(perg)):\n",
    "#     answer = (input(perg[x])).capitalize()\n",
    "#     resp.append(answer)\n",
    "#   count = resp.count('S')\n",
    "#   if count == 5:\n",
    "#     print(f'{nome} is {classi[0]}')\n",
    "#   elif count >= 3:\n",
    "#     print(f'{nome} is {classi[1]}')\n",
    "#   elif count == 2:\n",
    "#     print(f'{nome} is {classi[2]}')\n",
    "#   else:\n",
    "#     print(f'{nome} is {classi[3]}')\n",
    "\n",
    "    \n",
    "\n",
    "#Solucao 2\n",
    "classi = ['Assassino', 'Cumplice', 'Suspeita', 'Inocente']  \n",
    "perg   = ['Telefonou para a vítima?',\n",
    "          'Esteve no local do crime?',\n",
    "          'Mora perto da vítima?',\n",
    "          'Tinha dívidas com a vítima?',\n",
    "          'Ja trabalhou com a vítima?']\n",
    "count      = []\n",
    "nome_todos = []\n",
    "for i in range(2):\n",
    "  resp = []\n",
    "  nome = input('Digite seu nome: ')\n",
    "  nome_todos.append(nome)\n",
    "  print('A seguir digite S para sim ou N para nao.')\n",
    "  for x in range(len(perg)):\n",
    "    answer = (input(perg[x])).capitalize()\n",
    "    resp.append(answer)\n",
    "  count.append(resp.count('S'))\n",
    "\n",
    "for i,c in enumerate(count):\n",
    "    if c == 5:\n",
    "      print(f'{nome_todos[i]} is {classi[0]}')\n",
    "    elif c >= 3:\n",
    "      print(f'{nome_todos[i]} is {classi[1]}')\n",
    "    elif c == 2:\n",
    "      print(f'{nome_todos[i]} is {classi[2]}')\n",
    "    else:\n",
    "      print(f'{nome_todos[i]} is {classi[3]}')\n",
    "  \n",
    "# O programa deve no final emitir uma classificação sobre a\n",
    "# participação de cada pessoa no crime. Se a pessoa responder\n",
    "# positivamente a 2 questões ela deve ser classificada como\n",
    "# \"Suspeita“; entre 3 e 4 como \"Cúmplice\" e; 5 como \"Assassino\". Caso contrário, ele será classificado como \"Inocente\".\n",
    "\n",
    "# Exiba o nome de cada pessoa e sua classificação."
   ]
  }
 ],
 "metadata": {
  "kernelspec": {
   "display_name": "Python 3",
   "language": "python",
   "name": "python3"
  },
  "language_info": {
   "codemirror_mode": {
    "name": "ipython",
    "version": 3
   },
   "file_extension": ".py",
   "mimetype": "text/x-python",
   "name": "python",
   "nbconvert_exporter": "python",
   "pygments_lexer": "ipython3",
   "version": "3.10.11"
  },
  "orig_nbformat": 4
 },
 "nbformat": 4,
 "nbformat_minor": 2
}
